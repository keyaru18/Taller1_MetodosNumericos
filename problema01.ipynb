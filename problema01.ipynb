{
 "cells": [
  {
   "cell_type": "markdown",
   "id": "d98d28af",
   "metadata": {},
   "source": [
    "# Taller 1\n",
    " \n",
    "- Richard Tipantiza\n",
    "\n",
    "## Algoritmo 1\n",
    "\n",
    " ENTRADA $N, x_1, x_2,..., x_n.$\n",
    "\n",
    " SALIDA\n",
    "\n",
    " *Paso 1* Tome SUM = 0. $(Inicialice \\quad el \\quad acumulador)$\n",
    "\n",
    " *Paso 2* Para i = 1,2, ... ,N hacer\n",
    "                Tome SUM = SUM + $x_i.$ (Añadir el siguiente término.)\n",
    "\n",
    " *Paso 3* SALIDA(SUM);\n",
    "          PARE."
   ]
  },
  {
   "cell_type": "code",
   "execution_count": 1,
   "id": "a6358f4b",
   "metadata": {},
   "outputs": [],
   "source": [
    "def alg_01(N, x):\n",
    "    SUM = 0\n",
    "    for i in range(N):\n",
    "        SUM += x[i]\n",
    "    return SUM"
   ]
  },
  {
   "cell_type": "code",
   "execution_count": 3,
   "id": "a945eeb1",
   "metadata": {},
   "outputs": [
    {
     "data": {
      "text/plain": [
       "4950"
      ]
     },
     "execution_count": 3,
     "metadata": {},
     "output_type": "execute_result"
    }
   ],
   "source": [
    "x = range(100)\n",
    "alg_01(len(x), x)"
   ]
  },
  {
   "cell_type": "code",
   "execution_count": 4,
   "id": "b04403f9",
   "metadata": {},
   "outputs": [
    {
     "data": {
      "text/plain": [
       "1.75"
      ]
     },
     "execution_count": 4,
     "metadata": {},
     "output_type": "execute_result"
    }
   ],
   "source": [
    "x = [1, 1/2, 1/4]\n",
    "alg_01(len(x), x)"
   ]
  },
  {
   "cell_type": "code",
   "execution_count": 5,
   "id": "1ffcd069",
   "metadata": {},
   "outputs": [
    {
     "name": "stdout",
     "output_type": "stream",
     "text": [
      "[1.0, 0.5, 0.25, 0.125, 0.0625, 0.03125, 0.015625, 0.0078125, 0.00390625, 0.001953125, 0.0009765625, 0.00048828125, 0.000244140625, 0.0001220703125, 6.103515625e-05]\n",
      "1.99993896484375\n",
      "6.103515625e-05\n"
     ]
    }
   ],
   "source": [
    "x = [1/2**x for x in range(15)]\n",
    "print(x)\n",
    "r = alg_01(len(x), x)\n",
    "print(r)\n",
    "print(f\"{2-r}\")"
   ]
  },
  {
   "cell_type": "markdown",
   "id": "6c478236",
   "metadata": {},
   "source": [
    "### ¿Cuál es el número mínimo de los elementos de la serie $1 + 1/2 + 1/4 + 1/8 + ...$ para alacanzar un error absoluto dentro de  $10^{-1}$?"
   ]
  },
  {
   "cell_type": "code",
   "execution_count": 6,
   "id": "a00c248b",
   "metadata": {},
   "outputs": [
    {
     "name": "stdout",
     "output_type": "stream",
     "text": [
      "Para n=4: Error=0.125 (lo cual es > 0.1)\n",
      "Para n=5: Error=0.0625 (lo cual es < 0.1)\n"
     ]
    }
   ],
   "source": [
    "# Verificación\n",
    "n1 = 4\n",
    "error1 = 2**(1 - n1)\n",
    "print(f\"Para n={n1}: Error={error1} (lo cual es > 0.1)\")\n",
    "\n",
    "n2 = 5\n",
    "error2 = 2**(1 - n2)\n",
    "print(f\"Para n={n2}: Error={error2} (lo cual es < 0.1)\")\n"
   ]
  }
 ],
 "metadata": {
  "kernelspec": {
   "display_name": "Python 3",
   "language": "python",
   "name": "python3"
  },
  "language_info": {
   "codemirror_mode": {
    "name": "ipython",
    "version": 3
   },
   "file_extension": ".py",
   "mimetype": "text/x-python",
   "name": "python",
   "nbconvert_exporter": "python",
   "pygments_lexer": "ipython3",
   "version": "3.13.3"
  }
 },
 "nbformat": 4,
 "nbformat_minor": 5
}
